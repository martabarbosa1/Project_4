{
  "nbformat": 4,
  "nbformat_minor": 0,
  "metadata": {
    "colab": {
      "provenance": [],
      "mount_file_id": "1BsKTHT86o9J3hAjz_G6uaCnVPZcG4CAd",
      "authorship_tag": "ABX9TyMRTteNc6+ZE6HhFs2TCX6M",
      "include_colab_link": true
    },
    "kernelspec": {
      "name": "python3",
      "display_name": "Python 3"
    },
    "language_info": {
      "name": "python"
    }
  },
  "cells": [
    {
      "cell_type": "markdown",
      "metadata": {
        "id": "view-in-github",
        "colab_type": "text"
      },
      "source": [
        "<a href=\"https://colab.research.google.com/github/martabarbosa1/Project_4/blob/main/Final_Scrip_to_obtain_list_to_scrape.ipynb\" target=\"_parent\"><img src=\"https://colab.research.google.com/assets/colab-badge.svg\" alt=\"Open In Colab\"/></a>"
      ]
    },
    {
      "cell_type": "code",
      "execution_count": null,
      "metadata": {
        "id": "qeDn8mOlwkWr"
      },
      "outputs": [],
      "source": [
        "import pandas as pd\n",
        "import random"
      ]
    },
    {
      "cell_type": "code",
      "source": [
        "#Scrape only clean dataset\n",
        "df_clean_2 = pd.read_csv('/content/drive/MyDrive/Colab Notebooks/Projects/PROJECT 4 - WEBSCRAPING/Dataset clean/Clean_data2.csv')"
      ],
      "metadata": {
        "id": "pnB50CKivjdv"
      },
      "execution_count": null,
      "outputs": []
    },
    {
      "cell_type": "code",
      "source": [
        "#that have more than 500 votes\n",
        "df_clean_2[df_clean_2['RatingDistTotal_split']> 500].shape[0] #55934 books\n",
        "df_clean_2_500 = df_clean_2[df_clean_2['RatingDistTotal_split']> 500]"
      ],
      "metadata": {
        "id": "HjYFCVZPwFQw"
      },
      "execution_count": null,
      "outputs": []
    },
    {
      "cell_type": "code",
      "source": [
        "#new subdatasets of 100 samples\n",
        "df_sample_100_1 = df_clean_2_500.sample(frac=0.002, replace=True, random_state=1)\n",
        "df_sample_100_1.shape[0] #112\n",
        "\n",
        "# df_sample_100_1['ISBN'].to_csv('list_ISBN_random_100_1', index=False)"
      ],
      "metadata": {
        "id": "ft_mSc5kvMnU",
        "colab": {
          "base_uri": "https://localhost:8080/"
        },
        "outputId": "f84ef6c5-a863-4fca-af5c-62b18eb4cba7"
      },
      "execution_count": null,
      "outputs": [
        {
          "output_type": "execute_result",
          "data": {
            "text/plain": [
              "112"
            ]
          },
          "metadata": {},
          "execution_count": 12
        }
      ]
    },
    {
      "cell_type": "code",
      "source": [
        "#new subdatasets of 100 samples\n",
        "list_sample_100_1 = df_sample_100_1['ISBN'].values.tolist()\n",
        "\n",
        "#first create a subset without the sample rows\n",
        "df_clean_2_500_without_sample1 = df_clean_2_500[~df_clean_2_500['ISBN'].isin(list_sample_100_1)]\n",
        "df_clean_2_500_without_sample1.shape[0] #55822\n",
        "\n",
        "# #now create another subset\n",
        "df_sample_100_2 = df_clean_2_500_without_sample1.sample(frac=0.05, replace=True, random_state=1)\n",
        "df_sample_100_2.shape[0] #2791\n",
        "\n",
        "# already created\n",
        "# df_sample_100_2['ISBN'].to_csv('list_ISBN_random_100_2', index=False)"
      ],
      "metadata": {
        "id": "A-pPvYfHxjPZ",
        "colab": {
          "base_uri": "https://localhost:8080/"
        },
        "outputId": "4403a976-49de-46e9-b913-dd3b137c0d53"
      },
      "execution_count": null,
      "outputs": [
        {
          "output_type": "execute_result",
          "data": {
            "text/plain": [
              "2791"
            ]
          },
          "metadata": {},
          "execution_count": 18
        }
      ]
    },
    {
      "cell_type": "code",
      "source": [
        "#new subdatasets of 500 samples_1\n",
        "list_sample_100_2 = df_sample_100_2['ISBN'].values.tolist()\n",
        "list_sum_sample_100_1_2 = list_sample_100_1 + list_sample_100_2\n",
        "\n",
        "#first create a subset without the sample rows\n",
        "df_clean_2_500_without_sample_1_2 = df_clean_2_500[~df_clean_2_500['ISBN'].isin(list_sum_sample_100_1_2)]\n",
        "df_clean_2_500_without_sample_1_2.shape[0] #53112\n",
        "\n",
        "# #now create another subset\n",
        "df_sample_500_1 = df_clean_2_500_without_sample_1_2.sample(frac=0.05, replace=True, random_state=1)\n",
        "df_sample_500_1.shape[0] #7494\n",
        "\n",
        "# already created\n",
        "# df_sample_500_1['ISBN'].to_csv('list_ISBN_random_500_1', index=False)"
      ],
      "metadata": {
        "id": "eI7ziJRMzl1i"
      },
      "execution_count": null,
      "outputs": []
    },
    {
      "cell_type": "code",
      "source": [
        "#new subdatasets of 500 samples_2\n",
        "list_sample_500_1 = df_sample_500_1['ISBN'].values.tolist()\n",
        "list_sum_sample_100_1_2_500_1 = list_sample_500_1 + list_sum_sample_100_1_2\n",
        "\n",
        "#first create a subset without the sample rows\n",
        "df_clean_2_500_without_sample_100_1_2_500_1 = df_clean_2_500[~df_clean_2_500['ISBN'].isin(list_sum_sample_100_1_2_500_1)]\n",
        "df_clean_2_500_without_sample_100_1_2_500_1.shape[0] #50536\n",
        "\n",
        "# #now create another subset\n",
        "df_sample_500_2 = df_clean_2_500_without_sample_100_1_2_500_1.sample(frac=0.01, replace=True, random_state=1)\n",
        "df_sample_500_2.shape[0] #505\n",
        "\n",
        "# already created\n",
        "# df_sample_500_2['ISBN'].to_csv('list_ISBN_random_500_2', index=False)"
      ],
      "metadata": {
        "id": "IorySRCLArw5"
      },
      "execution_count": null,
      "outputs": []
    },
    {
      "cell_type": "code",
      "source": [
        "#new subdatasets of 500 samples_3\n",
        "list_sample_500_2 = df_sample_500_2['ISBN'].values.tolist()\n",
        "list_sum_sample_100_1_2_500_1_2 = list_sample_500_2 + list_sum_sample_100_1_2_500_1\n",
        "\n",
        "#first create a subset without the sample rows\n",
        "df_clean_2_500_without_sample_100_1_2_500_1_2 = df_clean_2_500[~df_clean_2_500['ISBN'].isin(list_sum_sample_100_1_2_500_1_2)]\n",
        "df_clean_2_500_without_sample_100_1_2_500_1_2.shape[0] #500034\n",
        "\n",
        "# # #now create another subset\n",
        "df_sample_500_3 = df_clean_2_500_without_sample_100_1_2_500_1_2.sample(frac=0.01, replace=True, random_state=1)\n",
        "df_sample_500_3.shape[0] #500\n",
        "\n",
        "# already created\n",
        "# df_sample_500_3['ISBN'].to_csv('list_ISBN_random_500_3', index=False)"
      ],
      "metadata": {
        "id": "k5QJ_Ap7ZN9A"
      },
      "execution_count": null,
      "outputs": []
    },
    {
      "cell_type": "code",
      "source": [
        "#new subdatasets of 500 samples_4\n",
        "list_sample_500_3 = df_sample_500_3['ISBN'].values.tolist()\n",
        "list_sum_sample_100_1_2_500_1_2_3 = list_sample_500_3 + list_sum_sample_100_1_2_500_1_2\n",
        "\n",
        "#first create a subset without the sample rows\n",
        "df_clean_2_500_without_sample_100_1_2_500_1_2_3 = df_clean_2_500[~df_clean_2_500['ISBN'].isin(list_sum_sample_100_1_2_500_1_2_3)]\n",
        "df_clean_2_500_without_sample_100_1_2_500_1_2_3.shape[0] #500034\n",
        "\n",
        "# # #now create another subset\n",
        "df_sample_500_4 = df_clean_2_500_without_sample_100_1_2_500_1_2_3.sample(frac=0.015, replace=True, random_state=1)\n",
        "df_sample_500_4.shape[0] #743\n",
        "\n",
        "# already created\n",
        "# df_sample_500_4['ISBN'].to_csv('list_ISBN_random_500_4', index=False)"
      ],
      "metadata": {
        "id": "BjEBt60ZqKAS"
      },
      "execution_count": null,
      "outputs": []
    },
    {
      "cell_type": "code",
      "source": [
        "#code to test the new subsample without the first\n",
        "#Ex 0330413503 from list sample\n",
        "df_clean_500_without_sample['ISBN'].apply(lambda x : x if x == '0330413503' else 'not found').value_counts()\n",
        "#it worked because it doesnt appear"
      ],
      "metadata": {
        "id": "5_z7ZO8iPD0h"
      },
      "execution_count": null,
      "outputs": []
    }
  ]
}